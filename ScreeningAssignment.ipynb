{
 "cells": [
  {
   "cell_type": "markdown",
   "id": "caf391c8",
   "metadata": {},
   "source": [
    "1.Create a function in python to read the text file and replace specific content\n",
    "of the file."
   ]
  },
  {
   "cell_type": "code",
   "execution_count": 4,
   "id": "f4ba30be",
   "metadata": {},
   "outputs": [],
   "source": [
    "def replace_text(filename,to_replace,new_str):\n",
    "    import re\n",
    "    \"\"\"filename is the file where a particular text has to be replaced\n",
    "    to_replace is the text to be replaced in the file\n",
    "    new_str is the text with which we are going to replace the original text\"\"\"\n",
    "    try:\n",
    "        f=open(filename,'r+') \n",
    "        data=str(f.read())\n",
    "        print(\"befor replacement:\",data)\n",
    "        result=re.findall(to_replace,data)\n",
    "        print(result)\n",
    "        data=data.replace(result[0],new_str)\n",
    "        f.seek(0)\n",
    "        f.truncate()\n",
    "        f.write(data)\n",
    "        f.seek(0)\n",
    "        print(f.read())\n",
    "    except Exception as e:\n",
    "        print(e)\n",
    "    finally:\n",
    "        f.close()\n",
    "        \n",
    "\n",
    "            \n",
    "          "
   ]
  },
  {
   "cell_type": "code",
   "execution_count": 5,
   "id": "d4cd8686",
   "metadata": {},
   "outputs": [],
   "source": [
    "f=open(\"example.txt\",'w')\n",
    "f.write(\"This is a placement assignment\")\n",
    "f.close()\n"
   ]
  },
  {
   "attachments": {
    "image.png": {
     "image/png": "[encoded data removed]"
    }
   },
   "cell_type": "markdown",
   "id": "9ede8bc4",
   "metadata": {},
   "source": [
    "![image.png](attachment:image.png)"
   ]
  },
  {
   "cell_type": "code",
   "execution_count": 6,
   "id": "d288677f",
   "metadata": {},
   "outputs": [
    {
     "name": "stdout",
     "output_type": "stream",
     "text": [
      "befor replacement: This is a placement assignment\n",
      "['placement']\n",
      "This is a screening assignment\n"
     ]
    }
   ],
   "source": [
    "replace_text(\"example.txt\",\"placement\",\"screening\")"
   ]
  },
  {
   "cell_type": "markdown",
   "id": "578f4996",
   "metadata": {},
   "source": [
    "2. Demonstrate use of abstract class, multiple inheritance and decorator in python using examples."
   ]
  },
  {
   "cell_type": "code",
   "execution_count": 17,
   "id": "51b951b3",
   "metadata": {},
   "outputs": [],
   "source": [
    "class parent1:\n",
    "    \"\"\"An abstract class in Python is typically created to declare a set of methods that must be created \n",
    "    in any child class builton top of this abstract class. Similarly, an abstract method is one that doesn't\n",
    "    have any implementation .Here we have area_base_cube as an abstract method which is overidden by the same\n",
    "    method of child class\"\"\" \n",
    "    def __init__(self,side):  \n",
    "        self.side=side    \n",
    "    def area_base_cube(self): \n",
    "        pass\n",
    "    def get_volume_cube(self,height):\n",
    "        return height*self.area_base_cube()\n",
    "\n",
    "class child(parent1):\n",
    "    def __init__(self,side):\n",
    "        parent1.__init__(self,side)\n",
    "       \n",
    "    def area_base_cube(self):\n",
    "        return (self.side**2)           \n",
    "\n",
    "\n"
   ]
  },
  {
   "cell_type": "code",
   "execution_count": 4,
   "id": "d35448cb",
   "metadata": {},
   "outputs": [
    {
     "name": "stdout",
     "output_type": "stream",
     "text": [
      "180\n"
     ]
    }
   ],
   "source": [
    "cube1=child(6)\n",
    "print(cube1.get_volume_cube(5))"
   ]
  },
  {
   "cell_type": "code",
   "execution_count": 18,
   "id": "1d1faaa9",
   "metadata": {},
   "outputs": [],
   "source": [
    "#MULTILEVEL INHERITANCE\n",
    "class parent1:\n",
    "    def __init__(self,side):\n",
    "        self.side=side    \n",
    "    def area_base_cube(self):\n",
    "        pass\n",
    "    def get_volume_cube(self,height):\n",
    "        return height*self.area_base_cube()\n",
    "    def get_side(self):\n",
    "        print('you entered side',self.side)\n",
    "\n",
    "\n",
    "\n",
    "class parent2:\n",
    "    def __init__(self,height):\n",
    "        self.height=height\n",
    "\n",
    "    def get_ht(self):\n",
    "        print(f\"you entered height {self.height}\")      \n",
    "        \n",
    "class child(parent1,parent2):\n",
    "    def __init__(self,side,height):\n",
    "        parent1.__init__(self,side)\n",
    "        parent2.__init__(self,height)\n",
    "    def area_base_cube(self):\n",
    "        return self.side**2  \n"
   ]
  },
  {
   "cell_type": "code",
   "execution_count": 16,
   "id": "8d53864b",
   "metadata": {},
   "outputs": [
    {
     "name": "stdout",
     "output_type": "stream",
     "text": [
      "144\n",
      "you entered side 6\n",
      "None\n",
      "you entered height 5\n",
      "None\n"
     ]
    }
   ],
   "source": [
    "cube1=child(6,5)\n",
    "print(cube1.get_volume_cube(4))\n",
    "print(cube1.get_side())\n",
    "print(cube1.get_ht())"
   ]
  },
  {
   "cell_type": "code",
   "execution_count": 1,
   "id": "e0f0acd0",
   "metadata": {},
   "outputs": [],
   "source": [
    "def square_decorator(function):\n",
    "  \"\"\"IT would square the number \"\"\"\n",
    "  def operation():\n",
    "      num=function()\n",
    "      return num**2\n",
    "  return operation\n",
    "    \n",
    "def triple_decorator(function):\n",
    "  \"\"\" IT would triple the number\"\"\"\n",
    "  def operation():\n",
    "      num=function()\n",
    "      return num*3\n",
    "  return operation\n",
    "\n",
    "@square_decorator # this is executed next  returning 18225\n",
    "@triple_decorator # this is executed first  returning 135\n",
    "def get_num():\n",
    "    n=input(\"enter any number\")\n",
    "    return int(n)\n"
   ]
  },
  {
   "cell_type": "code",
   "execution_count": 2,
   "id": "2d783caa",
   "metadata": {},
   "outputs": [
    {
     "name": "stdout",
     "output_type": "stream",
     "text": [
      "enter any number45\n"
     ]
    },
    {
     "data": {
      "text/plain": [
       "18225"
      ]
     },
     "execution_count": 2,
     "metadata": {},
     "output_type": "execute_result"
    }
   ],
   "source": [
    "get_num()"
   ]
  },
  {
   "cell_type": "code",
   "execution_count": null,
   "id": "a435a6f7",
   "metadata": {},
   "outputs": [],
   "source": []
  }
 ],
 "metadata": {
  "kernelspec": {
   "display_name": "Python 3 (ipykernel)",
   "language": "python",
   "name": "python3"
  },
  "language_info": {
   "codemirror_mode": {
    "name": "ipython",
    "version": 3
   },
   "file_extension": ".py",
   "mimetype": "text/x-python",
   "name": "python",
   "nbconvert_exporter": "python",
   "pygments_lexer": "ipython3",
   "version": "3.9.7"
  }
 },
 "nbformat": 4,
 "nbformat_minor": 5
}
